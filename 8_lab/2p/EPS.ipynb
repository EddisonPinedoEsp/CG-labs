{
 "cells": [
  {
   "cell_type": "code",
   "execution_count": 3,
   "metadata": {},
   "outputs": [],
   "source": [
    "# Leer un archivo .eps y extraer la información de las líneas que contienen\n",
    "# graficar y graficarlas en un archivo .png\n",
    "\n",
    "import re\n",
    "import matplotlib.pyplot as plt\n"
   ]
  },
  {
   "cell_type": "code",
   "execution_count": 4,
   "metadata": {},
   "outputs": [
    {
     "data": {
      "text/plain": [
       "<Figure size 640x480 with 0 Axes>"
      ]
     },
     "metadata": {},
     "output_type": "display_data"
    }
   ],
   "source": [
    "\n",
    "## leer y graficar archivo output.eps\n",
    "def read_file(file_name):\n",
    "\t\twith open(file_name, 'r') as file:\n",
    "\t\t\t\tlines = file.readlines()\n",
    "\t\t\t\tfor line in lines:\n",
    "\t\t\t\t\t\tif re.search(r'graficar', line):\n",
    "\t\t\t\t\t\t\t\tprint(line)\n",
    "\t\t\t\t\t\t\t\tx = re.findall(r'(\\d+)', line)\n",
    "\t\t\t\t\t\t\t\tplt.plot([int(x[0]), int(x[1])], [int(x[2]), int(x[3])])\n",
    "\t\t\t\tplt.savefig('output.png')\n",
    "\n",
    "\n",
    "read_file('marching_squares_rectangles.eps')\n",
    "\n"
   ]
  },
  {
   "cell_type": "code",
   "execution_count": null,
   "metadata": {},
   "outputs": [],
   "source": []
  }
 ],
 "metadata": {
  "kernelspec": {
   "display_name": ".venv",
   "language": "python",
   "name": "python3"
  },
  "language_info": {
   "codemirror_mode": {
    "name": "ipython",
    "version": 3
   },
   "file_extension": ".py",
   "mimetype": "text/x-python",
   "name": "python",
   "nbconvert_exporter": "python",
   "pygments_lexer": "ipython3",
   "version": "3.12.3"
  }
 },
 "nbformat": 4,
 "nbformat_minor": 2
}
